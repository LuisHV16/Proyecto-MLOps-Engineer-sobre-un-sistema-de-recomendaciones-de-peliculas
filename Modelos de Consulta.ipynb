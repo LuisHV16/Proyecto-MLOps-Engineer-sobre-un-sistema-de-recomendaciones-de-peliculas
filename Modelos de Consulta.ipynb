{
 "cells": [
  {
   "cell_type": "code",
   "execution_count": 2,
   "metadata": {},
   "outputs": [],
   "source": [
    "import pandas as pd\n",
    "import numpy as np\n",
    "from sklearn.neighbors import NearestNeighbors\n",
    "from sklearn.preprocessing import LabelEncoder\n",
    "from tabulate import tabulate"
   ]
  },
  {
   "attachments": {},
   "cell_type": "markdown",
   "metadata": {},
   "source": [
    "I. IMPORTAMOS LA DATA QUE USAREMOS PARA NUESTRAS 4 PRIMERAS FUNCIONES DE CONSULTA"
   ]
  },
  {
   "cell_type": "code",
   "execution_count": 3,
   "metadata": {},
   "outputs": [],
   "source": [
    "data1 = pd.read_csv(\"./Datos/sistemaconsulta_func1234.csv\", low_memory=False)\n"
   ]
  },
  {
   "cell_type": "code",
   "execution_count": 4,
   "metadata": {},
   "outputs": [
    {
     "data": {
      "text/html": [
       "<div>\n",
       "<style scoped>\n",
       "    .dataframe tbody tr th:only-of-type {\n",
       "        vertical-align: middle;\n",
       "    }\n",
       "\n",
       "    .dataframe tbody tr th {\n",
       "        vertical-align: top;\n",
       "    }\n",
       "\n",
       "    .dataframe thead th {\n",
       "        text-align: right;\n",
       "    }\n",
       "</style>\n",
       "<table border=\"1\" class=\"dataframe\">\n",
       "  <thead>\n",
       "    <tr style=\"text-align: right;\">\n",
       "      <th></th>\n",
       "      <th>title</th>\n",
       "      <th>release_date</th>\n",
       "      <th>release_year</th>\n",
       "      <th>popularity</th>\n",
       "      <th>vote_average</th>\n",
       "      <th>vote_count</th>\n",
       "    </tr>\n",
       "  </thead>\n",
       "  <tbody>\n",
       "    <tr>\n",
       "      <th>0</th>\n",
       "      <td>Toy Story</td>\n",
       "      <td>1995-10-30</td>\n",
       "      <td>1995</td>\n",
       "      <td>21.95</td>\n",
       "      <td>7.7</td>\n",
       "      <td>5415.0</td>\n",
       "    </tr>\n",
       "    <tr>\n",
       "      <th>1</th>\n",
       "      <td>Jumanji</td>\n",
       "      <td>1995-12-15</td>\n",
       "      <td>1995</td>\n",
       "      <td>17.02</td>\n",
       "      <td>6.9</td>\n",
       "      <td>2413.0</td>\n",
       "    </tr>\n",
       "    <tr>\n",
       "      <th>2</th>\n",
       "      <td>Grumpier Old Men</td>\n",
       "      <td>1995-12-22</td>\n",
       "      <td>1995</td>\n",
       "      <td>11.71</td>\n",
       "      <td>6.5</td>\n",
       "      <td>92.0</td>\n",
       "    </tr>\n",
       "    <tr>\n",
       "      <th>3</th>\n",
       "      <td>Waiting to Exhale</td>\n",
       "      <td>1995-12-22</td>\n",
       "      <td>1995</td>\n",
       "      <td>3.86</td>\n",
       "      <td>6.1</td>\n",
       "      <td>34.0</td>\n",
       "    </tr>\n",
       "    <tr>\n",
       "      <th>4</th>\n",
       "      <td>Father of the Bride Part II</td>\n",
       "      <td>1995-02-10</td>\n",
       "      <td>1995</td>\n",
       "      <td>8.39</td>\n",
       "      <td>5.7</td>\n",
       "      <td>173.0</td>\n",
       "    </tr>\n",
       "    <tr>\n",
       "      <th>...</th>\n",
       "      <td>...</td>\n",
       "      <td>...</td>\n",
       "      <td>...</td>\n",
       "      <td>...</td>\n",
       "      <td>...</td>\n",
       "      <td>...</td>\n",
       "    </tr>\n",
       "    <tr>\n",
       "      <th>45446</th>\n",
       "      <td>Robin Hood</td>\n",
       "      <td>1991-05-13</td>\n",
       "      <td>1991</td>\n",
       "      <td>5.68</td>\n",
       "      <td>5.7</td>\n",
       "      <td>26.0</td>\n",
       "    </tr>\n",
       "    <tr>\n",
       "      <th>45447</th>\n",
       "      <td>Century of Birthing</td>\n",
       "      <td>2011-11-17</td>\n",
       "      <td>2011</td>\n",
       "      <td>0.18</td>\n",
       "      <td>9.0</td>\n",
       "      <td>3.0</td>\n",
       "    </tr>\n",
       "    <tr>\n",
       "      <th>45448</th>\n",
       "      <td>Betrayal</td>\n",
       "      <td>2003-08-01</td>\n",
       "      <td>2003</td>\n",
       "      <td>0.90</td>\n",
       "      <td>3.8</td>\n",
       "      <td>6.0</td>\n",
       "    </tr>\n",
       "    <tr>\n",
       "      <th>45449</th>\n",
       "      <td>Satan Triumphant</td>\n",
       "      <td>1917-10-21</td>\n",
       "      <td>1917</td>\n",
       "      <td>0.00</td>\n",
       "      <td>0.0</td>\n",
       "      <td>0.0</td>\n",
       "    </tr>\n",
       "    <tr>\n",
       "      <th>45450</th>\n",
       "      <td>Queerama</td>\n",
       "      <td>2017-06-09</td>\n",
       "      <td>2017</td>\n",
       "      <td>0.16</td>\n",
       "      <td>0.0</td>\n",
       "      <td>0.0</td>\n",
       "    </tr>\n",
       "  </tbody>\n",
       "</table>\n",
       "<p>45451 rows × 6 columns</p>\n",
       "</div>"
      ],
      "text/plain": [
       "                             title release_date  release_year  popularity  \\\n",
       "0                        Toy Story   1995-10-30          1995       21.95   \n",
       "1                          Jumanji   1995-12-15          1995       17.02   \n",
       "2                 Grumpier Old Men   1995-12-22          1995       11.71   \n",
       "3                Waiting to Exhale   1995-12-22          1995        3.86   \n",
       "4      Father of the Bride Part II   1995-02-10          1995        8.39   \n",
       "...                            ...          ...           ...         ...   \n",
       "45446                   Robin Hood   1991-05-13          1991        5.68   \n",
       "45447          Century of Birthing   2011-11-17          2011        0.18   \n",
       "45448                     Betrayal   2003-08-01          2003        0.90   \n",
       "45449             Satan Triumphant   1917-10-21          1917        0.00   \n",
       "45450                     Queerama   2017-06-09          2017        0.16   \n",
       "\n",
       "       vote_average  vote_count  \n",
       "0               7.7      5415.0  \n",
       "1               6.9      2413.0  \n",
       "2               6.5        92.0  \n",
       "3               6.1        34.0  \n",
       "4               5.7       173.0  \n",
       "...             ...         ...  \n",
       "45446           5.7        26.0  \n",
       "45447           9.0         3.0  \n",
       "45448           3.8         6.0  \n",
       "45449           0.0         0.0  \n",
       "45450           0.0         0.0  \n",
       "\n",
       "[45451 rows x 6 columns]"
      ]
     },
     "execution_count": 4,
     "metadata": {},
     "output_type": "execute_result"
    }
   ],
   "source": [
    "data1"
   ]
  },
  {
   "attachments": {},
   "cell_type": "markdown",
   "metadata": {},
   "source": [
    "1.- def cantidad_filmaciones_mes(mes:str):\n",
    "\n",
    "''Se ingresa el mes y la funcion retorna la cantidad de peliculas que se estrenaron ese mes historicamente'\n",
    "\n",
    "return {'mes':mes, 'cantidad':respuesta}"
   ]
  },
  {
   "cell_type": "code",
   "execution_count": 7,
   "metadata": {},
   "outputs": [],
   "source": [
    "def peliculas_mes(mes: str):\n",
    "    archivo='./Datos/sistemaconsulta_func1234.csv'\n",
    "    columnas=['release_date']\n",
    "    data = pd.read_csv(archivo, low_memory=False, usecols=columnas)\n",
    "    data['release_date'] = pd.to_datetime(data['release_date'], errors='coerce')\n",
    "    meses_dict = {\n",
    "        'january': 'enero',\n",
    "        'february': 'febrero',\n",
    "        'march': 'marzo',\n",
    "        'april': 'abril',\n",
    "        'may': 'mayo',\n",
    "        'june': 'junio',\n",
    "        'july': 'julio',\n",
    "        'august': 'agosto',\n",
    "        'september': 'septiembre',\n",
    "        'october': 'octubre',\n",
    "        'november': 'noviembre',\n",
    "        'december': 'diciembre'\n",
    "    }\n",
    "    mes_espanol = meses_dict.get(mes.lower(), mes)\n",
    "    cantidad_peliculas = len(data[data['release_date'].dt.month_name().str.lower() == mes.lower()])\n",
    "    return f\"{cantidad_peliculas} cantidad de películas se estrenaron en el mes de {mes_espanol}\""
   ]
  },
  {
   "cell_type": "code",
   "execution_count": 8,
   "metadata": {},
   "outputs": [
    {
     "data": {
      "text/plain": [
       "'5920 cantidad de películas se estrenaron en el mes de enero'"
      ]
     },
     "execution_count": 8,
     "metadata": {},
     "output_type": "execute_result"
    }
   ],
   "source": [
    "peliculas_mes('January')"
   ]
  },
  {
   "attachments": {},
   "cell_type": "markdown",
   "metadata": {},
   "source": [
    "2.- def cantidad_filmaciones_dia(dia:str):\n",
    "\n",
    "'Se ingresa el dia y la función retorna la cantidad de peliculas que se estrebaron ese dia historicamente'\n",
    "\n",
    "return {'dia':dia, 'cantidad':respuesta}"
   ]
  },
  {
   "cell_type": "code",
   "execution_count": 9,
   "metadata": {},
   "outputs": [],
   "source": [
    "def peliculas_dia(dia:str):\n",
    "    archivo='./Datos/sistemaconsulta_func1234.csv'\n",
    "    columnas=['release_date']\n",
    "    data = pd.read_csv(archivo, low_memory=False, usecols=columnas)\n",
    "    data['release_date'] = pd.to_datetime(data['release_date'], errors='coerce')\n",
    "    dias_dict = {\n",
    "        'monday': 'lunes',\n",
    "        'tuesday': 'martes',\n",
    "        'wednesday': 'miércoles',\n",
    "        'thursday': 'jueves',\n",
    "        'friday': 'viernes',\n",
    "        'saturday': 'sábado',\n",
    "        'sunday': 'domingo'\n",
    "    }\n",
    "    dia_espanol = dias_dict.get(dia.lower(), dia)\n",
    "    cantidad_dias = len(data[data['release_date'].dt.day_name().str.lower() == dia.lower()])    \n",
    "    return f\"{cantidad_dias} cantidad de películas se estrenaron en el dia {dia_espanol}\""
   ]
  },
  {
   "cell_type": "code",
   "execution_count": 10,
   "metadata": {},
   "outputs": [
    {
     "data": {
      "text/plain": [
       "'3509 cantidad de películas se estrenaron en el dia lunes'"
      ]
     },
     "execution_count": 10,
     "metadata": {},
     "output_type": "execute_result"
    }
   ],
   "source": [
    "peliculas_dia('monday')"
   ]
  },
  {
   "attachments": {},
   "cell_type": "markdown",
   "metadata": {},
   "source": [
    "3.- def score_titulo(titulo:str):\n",
    "\n",
    "'Se ingresa el título de una filmación esperando como respuesta el título, el año de estreno y el score'\n",
    "\n",
    "return {'titulo':titulo, 'anio':respuesta, 'popularidad':respuesta}"
   ]
  },
  {
   "cell_type": "code",
   "execution_count": 11,
   "metadata": {},
   "outputs": [],
   "source": [
    "def score_titulo(pelicula: str):\n",
    "    archivo = './Datos/sistemaconsulta_func1234.csv'\n",
    "    columnas=['title', 'release_year', 'popularity']\n",
    "    data = pd.read_csv(archivo, low_memory=False, usecols=columnas)\n",
    "    pelicula_data = data[data['title'].str.lower() == pelicula.lower()]\n",
    "    \n",
    "    if pelicula_data.empty:\n",
    "        return f\"No se encontró información de la película {pelicula}\"\n",
    "    \n",
    "    titulo = pelicula_data['title'].iloc[0]\n",
    "    anio = pelicula_data['release_year'].iloc[0]\n",
    "    score = pelicula_data['popularity'].iloc[0]\n",
    "\n",
    "    return f\"La película {titulo} fue estrenada en el año {anio} con un score/popularidad de {score}\""
   ]
  },
  {
   "cell_type": "code",
   "execution_count": 12,
   "metadata": {},
   "outputs": [
    {
     "data": {
      "text/plain": [
       "'La película Jumanji fue estrenada en el año 1995 con un score/popularidad de 17.02'"
      ]
     },
     "execution_count": 12,
     "metadata": {},
     "output_type": "execute_result"
    }
   ],
   "source": [
    "score_titulo('Jumanji')"
   ]
  },
  {
   "attachments": {},
   "cell_type": "markdown",
   "metadata": {},
   "source": [
    "4.- def votos_titulo(titulo:str):\n",
    "\n",
    "'Se ingresa el título de una filmación esperando como respuesta el título, la cantidad de votos y el valor promedio de las votaciones. \n",
    "\n",
    "La misma variable deberá de contar con al menos 2000 valoraciones, \n",
    "caso contrario, debemos contar con un mensaje avisando que no cumple esta condición y que por ende, no se devuelve ningun valor.'\n",
    "\n",
    "return {'titulo':titulo, 'anio':respuesta, 'voto_total':respuesta, 'voto_promedio':respuesta}"
   ]
  },
  {
   "cell_type": "code",
   "execution_count": 13,
   "metadata": {},
   "outputs": [],
   "source": [
    "def votos_titulo(pelicula: str):\n",
    "    archivo = './Datos/sistemaconsulta_func1234.csv'\n",
    "    columnas=['title', 'release_year', 'vote_count', 'vote_average']\n",
    "    data = pd.read_csv(archivo, low_memory=False, usecols=columnas)\n",
    "    pelicula_data = data[data['title'].str.lower() == pelicula.lower()]\n",
    "    pelicula_count = data[data['title'].str.lower() == pelicula.lower()]['vote_count'].sum()\n",
    "    if pelicula_data.empty:\n",
    "        return f\"No se encontró información de la película {pelicula}\"\n",
    "    if pelicula_count < 2000:\n",
    "        return f\"No se encontró información de la película {pelicula}\"\n",
    "    \n",
    "    titulo = pelicula_data['title'].iloc[0]\n",
    "    anio = pelicula_data['release_year'].iloc[0]\n",
    "    count = pelicula_data['vote_count'].iloc[0]\n",
    "    average = pelicula_data['vote_average'].iloc[0]\n",
    "\n",
    "    return {'titulo':titulo, 'anio':anio, 'voto_total':count, 'voto_promedio':average}"
   ]
  },
  {
   "cell_type": "code",
   "execution_count": 14,
   "metadata": {},
   "outputs": [
    {
     "data": {
      "text/plain": [
       "{'titulo': 'Jumanji', 'anio': 1995, 'voto_total': 2413.0, 'voto_promedio': 6.9}"
      ]
     },
     "execution_count": 14,
     "metadata": {},
     "output_type": "execute_result"
    }
   ],
   "source": [
    "votos_titulo('Jumanji')"
   ]
  },
  {
   "attachments": {},
   "cell_type": "markdown",
   "metadata": {},
   "source": [
    "II. IMPORTAMOS LA DATA QUE USAREMOS PARA LA CONSULTA SOBRE EL ELENCO DE CADA PELÍCULA"
   ]
  },
  {
   "cell_type": "code",
   "execution_count": 15,
   "metadata": {},
   "outputs": [],
   "source": [
    "data2 = pd.read_csv('./Datos/sistemaconsulta_cast.csv')"
   ]
  },
  {
   "cell_type": "code",
   "execution_count": 16,
   "metadata": {},
   "outputs": [
    {
     "data": {
      "text/html": [
       "<div>\n",
       "<style scoped>\n",
       "    .dataframe tbody tr th:only-of-type {\n",
       "        vertical-align: middle;\n",
       "    }\n",
       "\n",
       "    .dataframe tbody tr th {\n",
       "        vertical-align: top;\n",
       "    }\n",
       "\n",
       "    .dataframe thead th {\n",
       "        text-align: right;\n",
       "    }\n",
       "</style>\n",
       "<table border=\"1\" class=\"dataframe\">\n",
       "  <thead>\n",
       "    <tr style=\"text-align: right;\">\n",
       "      <th></th>\n",
       "      <th>cast</th>\n",
       "      <th>return</th>\n",
       "    </tr>\n",
       "  </thead>\n",
       "  <tbody>\n",
       "    <tr>\n",
       "      <th>0</th>\n",
       "      <td>Tom Hanks, Tim Allen, Don Rickles, Jim Varney,...</td>\n",
       "      <td>12.45</td>\n",
       "    </tr>\n",
       "    <tr>\n",
       "      <th>1</th>\n",
       "      <td>Robin Williams, Jonathan Hyde, Kirsten Dunst, ...</td>\n",
       "      <td>4.04</td>\n",
       "    </tr>\n",
       "    <tr>\n",
       "      <th>2</th>\n",
       "      <td>Walter Matthau, Jack Lemmon, Ann-Margret, Soph...</td>\n",
       "      <td>0.00</td>\n",
       "    </tr>\n",
       "    <tr>\n",
       "      <th>3</th>\n",
       "      <td>Whitney Houston, Angela Bassett, Loretta Devin...</td>\n",
       "      <td>5.09</td>\n",
       "    </tr>\n",
       "    <tr>\n",
       "      <th>4</th>\n",
       "      <td>Steve Martin, Diane Keaton, Martin Short, Kimb...</td>\n",
       "      <td>0.00</td>\n",
       "    </tr>\n",
       "    <tr>\n",
       "      <th>...</th>\n",
       "      <td>...</td>\n",
       "      <td>...</td>\n",
       "    </tr>\n",
       "    <tr>\n",
       "      <th>43092</th>\n",
       "      <td>Lisa Boyle, Kena Land, Zaneta Polard, Don Yana...</td>\n",
       "      <td>0.00</td>\n",
       "    </tr>\n",
       "    <tr>\n",
       "      <th>43093</th>\n",
       "      <td>Patrick Bergin, Uma Thurman, David Morrissey, ...</td>\n",
       "      <td>0.00</td>\n",
       "    </tr>\n",
       "    <tr>\n",
       "      <th>43094</th>\n",
       "      <td>Angel Aquino, Perry Dizon, Hazel Orencio, Joel...</td>\n",
       "      <td>0.00</td>\n",
       "    </tr>\n",
       "    <tr>\n",
       "      <th>43095</th>\n",
       "      <td>Erika Eleniak, Adam Baldwin, Julie du Page, Ja...</td>\n",
       "      <td>0.00</td>\n",
       "    </tr>\n",
       "    <tr>\n",
       "      <th>43096</th>\n",
       "      <td>Iwan Mosschuchin, Nathalie Lissenko, Pavel Pav...</td>\n",
       "      <td>0.00</td>\n",
       "    </tr>\n",
       "  </tbody>\n",
       "</table>\n",
       "<p>43097 rows × 2 columns</p>\n",
       "</div>"
      ],
      "text/plain": [
       "                                                    cast  return\n",
       "0      Tom Hanks, Tim Allen, Don Rickles, Jim Varney,...   12.45\n",
       "1      Robin Williams, Jonathan Hyde, Kirsten Dunst, ...    4.04\n",
       "2      Walter Matthau, Jack Lemmon, Ann-Margret, Soph...    0.00\n",
       "3      Whitney Houston, Angela Bassett, Loretta Devin...    5.09\n",
       "4      Steve Martin, Diane Keaton, Martin Short, Kimb...    0.00\n",
       "...                                                  ...     ...\n",
       "43092  Lisa Boyle, Kena Land, Zaneta Polard, Don Yana...    0.00\n",
       "43093  Patrick Bergin, Uma Thurman, David Morrissey, ...    0.00\n",
       "43094  Angel Aquino, Perry Dizon, Hazel Orencio, Joel...    0.00\n",
       "43095  Erika Eleniak, Adam Baldwin, Julie du Page, Ja...    0.00\n",
       "43096  Iwan Mosschuchin, Nathalie Lissenko, Pavel Pav...    0.00\n",
       "\n",
       "[43097 rows x 2 columns]"
      ]
     },
     "execution_count": 16,
     "metadata": {},
     "output_type": "execute_result"
    }
   ],
   "source": [
    "data2"
   ]
  },
  {
   "attachments": {},
   "cell_type": "markdown",
   "metadata": {},
   "source": [
    "5.- def get_actor(nombre_actor:str):\n",
    "\n",
    "'Se ingresa el nombre de un actor que se encuentre dentro de un dataset debiendo devolver el éxito del mismo medido a través del retorno. \n",
    "\n",
    "Además, la cantidad de películas que en las que ha participado y el promedio de retorno'\n",
    "\n",
    "return {'actor':nombre_actor, 'cantidad_filmaciones':respuesta, 'retorno_total':respuesta, 'retorno_promedio':respuesta}"
   ]
  },
  {
   "cell_type": "code",
   "execution_count": 17,
   "metadata": {},
   "outputs": [],
   "source": [
    "def get_actor(nombre_actor: str):\n",
    "    archivo = './Datos/sistemaconsulta_cast.csv'\n",
    "    columnas = ['cast', 'return']\n",
    "    data = pd.read_csv(archivo, low_memory=False, usecols=columnas)\n",
    "    actor_films = data[data['cast'].str.contains(nombre_actor, case=False)]['return']\n",
    "    cantidad_peliculas = actor_films.count()\n",
    "    \n",
    "    if cantidad_peliculas == 0:\n",
    "        return f\"No se encontró información del actor {nombre_actor}\"\n",
    "    \n",
    "    retorno_total = actor_films.sum()\n",
    "    promedio_retorno = retorno_total / cantidad_peliculas\n",
    "\n",
    "    return {'actor': nombre_actor, 'cantidad_filmaciones': cantidad_peliculas, 'retorno_total': retorno_total, 'retorno_promedio': promedio_retorno}"
   ]
  },
  {
   "cell_type": "code",
   "execution_count": 18,
   "metadata": {},
   "outputs": [
    {
     "data": {
      "text/plain": [
       "{'actor': 'Robin Williams',\n",
       " 'cantidad_filmaciones': 82,\n",
       " 'retorno_total': 155.66,\n",
       " 'retorno_promedio': 1.8982926829268292}"
      ]
     },
     "execution_count": 18,
     "metadata": {},
     "output_type": "execute_result"
    }
   ],
   "source": [
    "get_actor('Robin Williams')"
   ]
  },
  {
   "attachments": {},
   "cell_type": "markdown",
   "metadata": {},
   "source": [
    "III. IMPORTAMOS LA DATA QUE USAREMOS PARA LA CONSULTA SOBRE DIRECTORES"
   ]
  },
  {
   "cell_type": "code",
   "execution_count": 19,
   "metadata": {},
   "outputs": [],
   "source": [
    "data3 = pd.read_csv('./Datos/sistemaconsulta_directors.csv')"
   ]
  },
  {
   "cell_type": "code",
   "execution_count": 20,
   "metadata": {},
   "outputs": [
    {
     "data": {
      "text/html": [
       "<div>\n",
       "<style scoped>\n",
       "    .dataframe tbody tr th:only-of-type {\n",
       "        vertical-align: middle;\n",
       "    }\n",
       "\n",
       "    .dataframe tbody tr th {\n",
       "        vertical-align: top;\n",
       "    }\n",
       "\n",
       "    .dataframe thead th {\n",
       "        text-align: right;\n",
       "    }\n",
       "</style>\n",
       "<table border=\"1\" class=\"dataframe\">\n",
       "  <thead>\n",
       "    <tr style=\"text-align: right;\">\n",
       "      <th></th>\n",
       "      <th>director</th>\n",
       "      <th>title</th>\n",
       "      <th>release_date</th>\n",
       "      <th>budget</th>\n",
       "      <th>revenue</th>\n",
       "      <th>return</th>\n",
       "    </tr>\n",
       "  </thead>\n",
       "  <tbody>\n",
       "    <tr>\n",
       "      <th>0</th>\n",
       "      <td>John Lasseter</td>\n",
       "      <td>Toy Story</td>\n",
       "      <td>1995-10-30</td>\n",
       "      <td>30000000</td>\n",
       "      <td>373554033.0</td>\n",
       "      <td>12.45</td>\n",
       "    </tr>\n",
       "    <tr>\n",
       "      <th>1</th>\n",
       "      <td>Joe Johnston</td>\n",
       "      <td>Jumanji</td>\n",
       "      <td>1995-12-15</td>\n",
       "      <td>65000000</td>\n",
       "      <td>262797249.0</td>\n",
       "      <td>4.04</td>\n",
       "    </tr>\n",
       "    <tr>\n",
       "      <th>2</th>\n",
       "      <td>Howard Deutch</td>\n",
       "      <td>Grumpier Old Men</td>\n",
       "      <td>1995-12-22</td>\n",
       "      <td>0</td>\n",
       "      <td>0.0</td>\n",
       "      <td>0.00</td>\n",
       "    </tr>\n",
       "    <tr>\n",
       "      <th>3</th>\n",
       "      <td>Forest Whitaker</td>\n",
       "      <td>Waiting to Exhale</td>\n",
       "      <td>1995-12-22</td>\n",
       "      <td>16000000</td>\n",
       "      <td>81452156.0</td>\n",
       "      <td>5.09</td>\n",
       "    </tr>\n",
       "    <tr>\n",
       "      <th>4</th>\n",
       "      <td>Charles Shyer</td>\n",
       "      <td>Father of the Bride Part II</td>\n",
       "      <td>1995-02-10</td>\n",
       "      <td>0</td>\n",
       "      <td>76578911.0</td>\n",
       "      <td>0.00</td>\n",
       "    </tr>\n",
       "    <tr>\n",
       "      <th>...</th>\n",
       "      <td>...</td>\n",
       "      <td>...</td>\n",
       "      <td>...</td>\n",
       "      <td>...</td>\n",
       "      <td>...</td>\n",
       "      <td>...</td>\n",
       "    </tr>\n",
       "    <tr>\n",
       "      <th>44611</th>\n",
       "      <td>John Irvin</td>\n",
       "      <td>Robin Hood</td>\n",
       "      <td>1991-05-13</td>\n",
       "      <td>0</td>\n",
       "      <td>0.0</td>\n",
       "      <td>0.00</td>\n",
       "    </tr>\n",
       "    <tr>\n",
       "      <th>44612</th>\n",
       "      <td>Lav Diaz</td>\n",
       "      <td>Century of Birthing</td>\n",
       "      <td>2011-11-17</td>\n",
       "      <td>0</td>\n",
       "      <td>0.0</td>\n",
       "      <td>0.00</td>\n",
       "    </tr>\n",
       "    <tr>\n",
       "      <th>44613</th>\n",
       "      <td>Mark L. Lester</td>\n",
       "      <td>Betrayal</td>\n",
       "      <td>2003-08-01</td>\n",
       "      <td>0</td>\n",
       "      <td>0.0</td>\n",
       "      <td>0.00</td>\n",
       "    </tr>\n",
       "    <tr>\n",
       "      <th>44614</th>\n",
       "      <td>Yakov Protazanov</td>\n",
       "      <td>Satan Triumphant</td>\n",
       "      <td>1917-10-21</td>\n",
       "      <td>0</td>\n",
       "      <td>0.0</td>\n",
       "      <td>0.00</td>\n",
       "    </tr>\n",
       "    <tr>\n",
       "      <th>44615</th>\n",
       "      <td>Daisy Asquith</td>\n",
       "      <td>Queerama</td>\n",
       "      <td>2017-06-09</td>\n",
       "      <td>0</td>\n",
       "      <td>0.0</td>\n",
       "      <td>0.00</td>\n",
       "    </tr>\n",
       "  </tbody>\n",
       "</table>\n",
       "<p>44616 rows × 6 columns</p>\n",
       "</div>"
      ],
      "text/plain": [
       "               director                        title release_date    budget  \\\n",
       "0         John Lasseter                    Toy Story   1995-10-30  30000000   \n",
       "1          Joe Johnston                      Jumanji   1995-12-15  65000000   \n",
       "2         Howard Deutch             Grumpier Old Men   1995-12-22         0   \n",
       "3       Forest Whitaker            Waiting to Exhale   1995-12-22  16000000   \n",
       "4         Charles Shyer  Father of the Bride Part II   1995-02-10         0   \n",
       "...                 ...                          ...          ...       ...   \n",
       "44611        John Irvin                   Robin Hood   1991-05-13         0   \n",
       "44612          Lav Diaz          Century of Birthing   2011-11-17         0   \n",
       "44613    Mark L. Lester                     Betrayal   2003-08-01         0   \n",
       "44614  Yakov Protazanov             Satan Triumphant   1917-10-21         0   \n",
       "44615     Daisy Asquith                     Queerama   2017-06-09         0   \n",
       "\n",
       "           revenue  return  \n",
       "0      373554033.0   12.45  \n",
       "1      262797249.0    4.04  \n",
       "2              0.0    0.00  \n",
       "3       81452156.0    5.09  \n",
       "4       76578911.0    0.00  \n",
       "...            ...     ...  \n",
       "44611          0.0    0.00  \n",
       "44612          0.0    0.00  \n",
       "44613          0.0    0.00  \n",
       "44614          0.0    0.00  \n",
       "44615          0.0    0.00  \n",
       "\n",
       "[44616 rows x 6 columns]"
      ]
     },
     "execution_count": 20,
     "metadata": {},
     "output_type": "execute_result"
    }
   ],
   "source": [
    "data3"
   ]
  },
  {
   "attachments": {},
   "cell_type": "markdown",
   "metadata": {},
   "source": [
    "6.- def get_director(nombre_director:str):\n",
    "\n",
    "'Se ingresa el nombre de un director que se encuentre dentro de un dataset debiendo devolver el éxito del mismo medido a través del retorno.\n",
    "\n",
    "Además, deberá devolver el nombre de cada película con la fecha de lanzamiento, retorno individual, costo y ganancia de la misma'\n",
    "\n",
    "return {'director':nombre_director, 'retorno_total_director':respuesta, 'peliculas':respuesta, 'anio':respuesta, 'retorno_pelicula':respuesta, 'budget_pelicula':respuesta, 'revenue_pelicula':respuesta}"
   ]
  },
  {
   "cell_type": "code",
   "execution_count": 21,
   "metadata": {},
   "outputs": [],
   "source": [
    "def get_director(nombre_director: str):\n",
    "    archivo = './Datos/sistemaconsulta_directors.csv'\n",
    "    columnas = ['director', 'title', 'release_date', 'budget', 'revenue', 'return']\n",
    "    data = pd.read_csv(archivo, low_memory=False, usecols=columnas)\n",
    "\n",
    "    director_films = data[data['director'].str.lower() == nombre_director.lower()]\n",
    "    if director_films.empty:\n",
    "        return pd.DataFrame({\n",
    "            'director': [nombre_director],\n",
    "            'retorno_total_director': [0],\n",
    "            'peliculas': [[]],\n",
    "            'anio': [[]],\n",
    "            'retorno_pelicula': [[]],\n",
    "            'budget_pelicula': [[]],\n",
    "            'revenue_pelicula': [[]]\n",
    "        })\n",
    "\n",
    "    retorno_total_director = director_films['return'].sum()\n",
    "    peliculas = director_films['title'].tolist()\n",
    "    anio = director_films['release_date'].tolist()\n",
    "    retorno_pelicula = director_films['return'].tolist()\n",
    "    budget_pelicula = director_films['budget'].tolist()\n",
    "    revenue_pelicula = director_films['revenue'].tolist()\n",
    "\n",
    "    # Crear tabla para 'director' y 'retorno_total_director'\n",
    "    table1 = pd.DataFrame({\n",
    "        'Director': [nombre_director],\n",
    "        'Retorno_total_director': [retorno_total_director]\n",
    "    })\n",
    "\n",
    "    # Crear tabla para 'peliculas', 'anio', 'retorno_pelicula', 'budget_pelicula', 'revenue_pelicula'\n",
    "    table2 = pd.DataFrame({\n",
    "        'Peliculas': peliculas,\n",
    "        'Anio': anio,\n",
    "        'Retorno_pelicula': retorno_pelicula,\n",
    "        'Presupuesto_pelicula': budget_pelicula,\n",
    "        'Ganancia_pelicula': revenue_pelicula\n",
    "    })\n",
    "\n",
    "    # Imprimir la primera tabla\n",
    "    print('Tabla 1:')\n",
    "    print(tabulate(table1, headers='keys', tablefmt='psql'))\n",
    "    print('\\n')\n",
    "\n",
    "    # Imprimir la segunda tabla\n",
    "    print('Tabla 2:')\n",
    "    print(tabulate(table2, headers='keys', tablefmt='psql'))"
   ]
  },
  {
   "cell_type": "code",
   "execution_count": 22,
   "metadata": {},
   "outputs": [
    {
     "name": "stdout",
     "output_type": "stream",
     "text": [
      "Tabla 1:\n",
      "+----+---------------+--------------------------+\n",
      "|    | Director      |   Retorno_total_director |\n",
      "|----+---------------+--------------------------|\n",
      "|  0 | James Cameron |                    54.24 |\n",
      "+----+---------------+--------------------------+\n",
      "\n",
      "\n",
      "Tabla 2:\n",
      "+----+--------------------------------+------------+--------------------+------------------------+---------------------+\n",
      "|    | Peliculas                      | Anio       |   Retorno_pelicula |   Presupuesto_pelicula |   Ganancia_pelicula |\n",
      "|----+--------------------------------+------------+--------------------+------------------------+---------------------|\n",
      "|  0 | True Lies                      | 1994-07-14 |               3.29 |              115000000 |         3.78882e+08 |\n",
      "|  1 | Terminator 2: Judgment Day     | 1991-07-01 |               5.2  |              100000000 |         5.2e+08     |\n",
      "|  2 | The Abyss                      | 1989-08-09 |               1.29 |               70000000 |         9.00001e+07 |\n",
      "|  3 | Aliens                         | 1986-07-18 |               9.91 |               18500000 |         1.83316e+08 |\n",
      "|  4 | The Terminator                 | 1984-10-26 |              12.25 |                6400000 |         7.83712e+07 |\n",
      "|  5 | Titanic                        | 1997-11-18 |               9.23 |              200000000 |         1.84503e+09 |\n",
      "|  6 | Piranha Part Two: The Spawning | 1981-01-01 |               0    |                 145786 |         0           |\n",
      "|  7 | Ghosts of the Abyss            | 2003-04-10 |               1.31 |               13000000 |         1.70409e+07 |\n",
      "|  8 | Avatar                         | 2009-12-10 |              11.76 |              237000000 |         2.78797e+09 |\n",
      "|  9 | Avatar 2                       | 2020-12-16 |               0    |                      0 |         0           |\n",
      "| 10 | T2 3-D: Battle Across Time     | 1996-01-01 |               0    |                      0 |         0           |\n",
      "+----+--------------------------------+------------+--------------------+------------------------+---------------------+\n"
     ]
    }
   ],
   "source": [
    "get_director('James Cameron')"
   ]
  },
  {
   "attachments": {},
   "cell_type": "markdown",
   "metadata": {},
   "source": [
    "IV. IMPORTAMOS LA DATA QUE USAREMOS PARA LA CREACIÓN DE NUESTRO SISTEMA DE RECOMENDACIONES DE PELÍCULAS"
   ]
  },
  {
   "cell_type": "code",
   "execution_count": 24,
   "metadata": {},
   "outputs": [],
   "source": [
    "data4= pd.read_csv('./Datos/sistemarecomendacion.csv')"
   ]
  },
  {
   "cell_type": "code",
   "execution_count": 25,
   "metadata": {},
   "outputs": [
    {
     "data": {
      "text/html": [
       "<div>\n",
       "<style scoped>\n",
       "    .dataframe tbody tr th:only-of-type {\n",
       "        vertical-align: middle;\n",
       "    }\n",
       "\n",
       "    .dataframe tbody tr th {\n",
       "        vertical-align: top;\n",
       "    }\n",
       "\n",
       "    .dataframe thead th {\n",
       "        text-align: right;\n",
       "    }\n",
       "</style>\n",
       "<table border=\"1\" class=\"dataframe\">\n",
       "  <thead>\n",
       "    <tr style=\"text-align: right;\">\n",
       "      <th></th>\n",
       "      <th>title</th>\n",
       "      <th>genres</th>\n",
       "      <th>popularity</th>\n",
       "      <th>vote_average</th>\n",
       "    </tr>\n",
       "  </thead>\n",
       "  <tbody>\n",
       "    <tr>\n",
       "      <th>0</th>\n",
       "      <td>Toy Story</td>\n",
       "      <td>Animation, Comedy, Family</td>\n",
       "      <td>21.95</td>\n",
       "      <td>7.7</td>\n",
       "    </tr>\n",
       "    <tr>\n",
       "      <th>1</th>\n",
       "      <td>Jumanji</td>\n",
       "      <td>Adventure, Fantasy, Family</td>\n",
       "      <td>17.02</td>\n",
       "      <td>6.9</td>\n",
       "    </tr>\n",
       "    <tr>\n",
       "      <th>2</th>\n",
       "      <td>Grumpier Old Men</td>\n",
       "      <td>Romance, Comedy</td>\n",
       "      <td>11.71</td>\n",
       "      <td>6.5</td>\n",
       "    </tr>\n",
       "    <tr>\n",
       "      <th>3</th>\n",
       "      <td>Waiting to Exhale</td>\n",
       "      <td>Comedy, Drama, Romance</td>\n",
       "      <td>3.86</td>\n",
       "      <td>6.1</td>\n",
       "    </tr>\n",
       "    <tr>\n",
       "      <th>4</th>\n",
       "      <td>Father of the Bride Part II</td>\n",
       "      <td>Comedy</td>\n",
       "      <td>8.39</td>\n",
       "      <td>5.7</td>\n",
       "    </tr>\n",
       "    <tr>\n",
       "      <th>...</th>\n",
       "      <td>...</td>\n",
       "      <td>...</td>\n",
       "      <td>...</td>\n",
       "      <td>...</td>\n",
       "    </tr>\n",
       "    <tr>\n",
       "      <th>45446</th>\n",
       "      <td>Robin Hood</td>\n",
       "      <td>Drama, Action, Romance</td>\n",
       "      <td>5.68</td>\n",
       "      <td>5.7</td>\n",
       "    </tr>\n",
       "    <tr>\n",
       "      <th>45447</th>\n",
       "      <td>Century of Birthing</td>\n",
       "      <td>Drama</td>\n",
       "      <td>0.18</td>\n",
       "      <td>9.0</td>\n",
       "    </tr>\n",
       "    <tr>\n",
       "      <th>45448</th>\n",
       "      <td>Betrayal</td>\n",
       "      <td>Action, Drama, Thriller</td>\n",
       "      <td>0.90</td>\n",
       "      <td>3.8</td>\n",
       "    </tr>\n",
       "    <tr>\n",
       "      <th>45449</th>\n",
       "      <td>Satan Triumphant</td>\n",
       "      <td>NaN</td>\n",
       "      <td>0.00</td>\n",
       "      <td>0.0</td>\n",
       "    </tr>\n",
       "    <tr>\n",
       "      <th>45450</th>\n",
       "      <td>Queerama</td>\n",
       "      <td>NaN</td>\n",
       "      <td>0.16</td>\n",
       "      <td>0.0</td>\n",
       "    </tr>\n",
       "  </tbody>\n",
       "</table>\n",
       "<p>45451 rows × 4 columns</p>\n",
       "</div>"
      ],
      "text/plain": [
       "                             title                      genres  popularity  \\\n",
       "0                        Toy Story   Animation, Comedy, Family       21.95   \n",
       "1                          Jumanji  Adventure, Fantasy, Family       17.02   \n",
       "2                 Grumpier Old Men             Romance, Comedy       11.71   \n",
       "3                Waiting to Exhale      Comedy, Drama, Romance        3.86   \n",
       "4      Father of the Bride Part II                      Comedy        8.39   \n",
       "...                            ...                         ...         ...   \n",
       "45446                   Robin Hood      Drama, Action, Romance        5.68   \n",
       "45447          Century of Birthing                       Drama        0.18   \n",
       "45448                     Betrayal     Action, Drama, Thriller        0.90   \n",
       "45449             Satan Triumphant                         NaN        0.00   \n",
       "45450                     Queerama                         NaN        0.16   \n",
       "\n",
       "       vote_average  \n",
       "0               7.7  \n",
       "1               6.9  \n",
       "2               6.5  \n",
       "3               6.1  \n",
       "4               5.7  \n",
       "...             ...  \n",
       "45446           5.7  \n",
       "45447           9.0  \n",
       "45448           3.8  \n",
       "45449           0.0  \n",
       "45450           0.0  \n",
       "\n",
       "[45451 rows x 4 columns]"
      ]
     },
     "execution_count": 25,
     "metadata": {},
     "output_type": "execute_result"
    }
   ],
   "source": [
    "data4"
   ]
  },
  {
   "cell_type": "code",
   "execution_count": 26,
   "metadata": {},
   "outputs": [],
   "source": [
    "def recomendacion(titulo: str):\n",
    "    archivo = './Datos/sistemarecomendacion.csv'\n",
    "    columnas = ['title', 'genres', 'popularity', 'vote_average']  # Reemplaza 'feature1', 'feature2', 'feature3' con las características relevantes de las películas\n",
    "\n",
    "    # Leer el archivo CSV y seleccionar las columnas de interés\n",
    "    data = pd.read_csv(archivo, low_memory=False, usecols=columnas)\n",
    "\n",
    "    # Codificar las etiquetas de la columna 'genres'\n",
    "    label_encoder = LabelEncoder()\n",
    "    data['genres_encoded'] = label_encoder.fit_transform(data['genres'])\n",
    "\n",
    "    # Crear un modelo de vecinos más cercanos\n",
    "    model = NearestNeighbors(n_neighbors=4, algorithm='brute')  # Ajusta el número de vecinos y el algoritmo según tus necesidades\n",
    "\n",
    "    # Ajustar el modelo a los datos\n",
    "    model.fit(data[['genres_encoded', 'popularity', 'vote_average']])  # Reemplaza 'feature1', 'feature2', 'feature3' con las características relevantes de las películas\n",
    "\n",
    "    # Buscar las películas similares al título dado\n",
    "    indice = data[data['title'] == titulo].index[0]\n",
    "    _, indices_similares = model.kneighbors(data.iloc[indice][['genres_encoded', 'popularity', 'vote_average']].values.reshape(1, -1))\n",
    "\n",
    "    # Obtener los títulos de las películas similares\n",
    "    peliculas_similares = data.loc[indices_similares[0], 'title'].tolist()\n",
    "\n",
    "    return {'lista_recomendada': peliculas_similares}"
   ]
  },
  {
   "cell_type": "code",
   "execution_count": 27,
   "metadata": {},
   "outputs": [
    {
     "name": "stderr",
     "output_type": "stream",
     "text": [
      "c:\\Users\\Administrador\\Documents\\SOYHENRY\\Proyectos Henry\\PI_1_DT11\\fastapi-env\\lib\\site-packages\\sklearn\\base.py:439: UserWarning: X does not have valid feature names, but NearestNeighbors was fitted with feature names\n",
      "  warnings.warn(\n"
     ]
    },
    {
     "data": {
      "text/plain": [
       "{'lista_recomendada': ['Toy Story', 'Despicable Me 2', 'Up', 'Ratatouille']}"
      ]
     },
     "execution_count": 27,
     "metadata": {},
     "output_type": "execute_result"
    }
   ],
   "source": [
    "recomendacion('Toy Story')"
   ]
  }
 ],
 "metadata": {
  "kernelspec": {
   "display_name": "fastapi-env",
   "language": "python",
   "name": "python3"
  },
  "language_info": {
   "codemirror_mode": {
    "name": "ipython",
    "version": 3
   },
   "file_extension": ".py",
   "mimetype": "text/x-python",
   "name": "python",
   "nbconvert_exporter": "python",
   "pygments_lexer": "ipython3",
   "version": "3.10.6"
  },
  "orig_nbformat": 4
 },
 "nbformat": 4,
 "nbformat_minor": 2
}
